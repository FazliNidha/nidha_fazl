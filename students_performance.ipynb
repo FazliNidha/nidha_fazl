{
  "nbformat": 4,
  "nbformat_minor": 0,
  "metadata": {
    "colab": {
      "provenance": []
    },
    "kernelspec": {
      "name": "python3",
      "display_name": "Python 3"
    },
    "language_info": {
      "name": "python"
    }
  },
  "cells": [
    {
      "cell_type": "code",
      "execution_count": 1,
      "metadata": {
        "id": "ukeAmRIGSaGx"
      },
      "outputs": [],
      "source": [
        "import pandas as pd\n",
        "import numpy as np"
      ]
    },
    {
      "cell_type": "code",
      "source": [
        "data=pd.read_csv(\"/content/Students_Performance.csv\")"
      ],
      "metadata": {
        "id": "dAO6xKuEShrd"
      },
      "execution_count": 6,
      "outputs": []
    },
    {
      "cell_type": "code",
      "source": [
        "data"
      ],
      "metadata": {
        "colab": {
          "base_uri": "https://localhost:8080/",
          "height": 423
        },
        "id": "1sF3wkFRStQB",
        "outputId": "f904aa74-7d72-4c5c-c97c-6cd141f2d9ac"
      },
      "execution_count": 7,
      "outputs": [
        {
          "output_type": "execute_result",
          "data": {
            "text/plain": [
              "     gender race/ethnicity parental level of education         lunch  \\\n",
              "0    female        group C            some high school  free/reduced   \n",
              "1    female        group B                 high school  free/reduced   \n",
              "2    female        group B            some high school  free/reduced   \n",
              "3    female        group B                some college      standard   \n",
              "4    female        group C                some college  free/reduced   \n",
              "..      ...            ...                         ...           ...   \n",
              "995    male        group E                some college      standard   \n",
              "996    male        group A                some college      standard   \n",
              "997    male        group D                some college      standard   \n",
              "998    male        group E          associate's degree  free/reduced   \n",
              "999    male        group E           bachelor's degree      standard   \n",
              "\n",
              "    test preparation course  math score  reading score  writing score  \n",
              "0                      none           0             17             10  \n",
              "1                      none           8             24             23  \n",
              "2                      none          18             32             28  \n",
              "3                      none          11             38             32  \n",
              "4                      none          22             39             33  \n",
              "..                      ...         ...            ...            ...  \n",
              "995               completed          99             87             81  \n",
              "996               completed         100             96             86  \n",
              "997               completed         100             97             99  \n",
              "998               completed         100            100             93  \n",
              "999               completed         100            100            100  \n",
              "\n",
              "[1000 rows x 8 columns]"
            ],
            "text/html": [
              "\n",
              "  <div id=\"df-79ba6c91-caf7-4860-80ca-9a03914b2e1f\" class=\"colab-df-container\">\n",
              "    <div>\n",
              "<style scoped>\n",
              "    .dataframe tbody tr th:only-of-type {\n",
              "        vertical-align: middle;\n",
              "    }\n",
              "\n",
              "    .dataframe tbody tr th {\n",
              "        vertical-align: top;\n",
              "    }\n",
              "\n",
              "    .dataframe thead th {\n",
              "        text-align: right;\n",
              "    }\n",
              "</style>\n",
              "<table border=\"1\" class=\"dataframe\">\n",
              "  <thead>\n",
              "    <tr style=\"text-align: right;\">\n",
              "      <th></th>\n",
              "      <th>gender</th>\n",
              "      <th>race/ethnicity</th>\n",
              "      <th>parental level of education</th>\n",
              "      <th>lunch</th>\n",
              "      <th>test preparation course</th>\n",
              "      <th>math score</th>\n",
              "      <th>reading score</th>\n",
              "      <th>writing score</th>\n",
              "    </tr>\n",
              "  </thead>\n",
              "  <tbody>\n",
              "    <tr>\n",
              "      <th>0</th>\n",
              "      <td>female</td>\n",
              "      <td>group C</td>\n",
              "      <td>some high school</td>\n",
              "      <td>free/reduced</td>\n",
              "      <td>none</td>\n",
              "      <td>0</td>\n",
              "      <td>17</td>\n",
              "      <td>10</td>\n",
              "    </tr>\n",
              "    <tr>\n",
              "      <th>1</th>\n",
              "      <td>female</td>\n",
              "      <td>group B</td>\n",
              "      <td>high school</td>\n",
              "      <td>free/reduced</td>\n",
              "      <td>none</td>\n",
              "      <td>8</td>\n",
              "      <td>24</td>\n",
              "      <td>23</td>\n",
              "    </tr>\n",
              "    <tr>\n",
              "      <th>2</th>\n",
              "      <td>female</td>\n",
              "      <td>group B</td>\n",
              "      <td>some high school</td>\n",
              "      <td>free/reduced</td>\n",
              "      <td>none</td>\n",
              "      <td>18</td>\n",
              "      <td>32</td>\n",
              "      <td>28</td>\n",
              "    </tr>\n",
              "    <tr>\n",
              "      <th>3</th>\n",
              "      <td>female</td>\n",
              "      <td>group B</td>\n",
              "      <td>some college</td>\n",
              "      <td>standard</td>\n",
              "      <td>none</td>\n",
              "      <td>11</td>\n",
              "      <td>38</td>\n",
              "      <td>32</td>\n",
              "    </tr>\n",
              "    <tr>\n",
              "      <th>4</th>\n",
              "      <td>female</td>\n",
              "      <td>group C</td>\n",
              "      <td>some college</td>\n",
              "      <td>free/reduced</td>\n",
              "      <td>none</td>\n",
              "      <td>22</td>\n",
              "      <td>39</td>\n",
              "      <td>33</td>\n",
              "    </tr>\n",
              "    <tr>\n",
              "      <th>...</th>\n",
              "      <td>...</td>\n",
              "      <td>...</td>\n",
              "      <td>...</td>\n",
              "      <td>...</td>\n",
              "      <td>...</td>\n",
              "      <td>...</td>\n",
              "      <td>...</td>\n",
              "      <td>...</td>\n",
              "    </tr>\n",
              "    <tr>\n",
              "      <th>995</th>\n",
              "      <td>male</td>\n",
              "      <td>group E</td>\n",
              "      <td>some college</td>\n",
              "      <td>standard</td>\n",
              "      <td>completed</td>\n",
              "      <td>99</td>\n",
              "      <td>87</td>\n",
              "      <td>81</td>\n",
              "    </tr>\n",
              "    <tr>\n",
              "      <th>996</th>\n",
              "      <td>male</td>\n",
              "      <td>group A</td>\n",
              "      <td>some college</td>\n",
              "      <td>standard</td>\n",
              "      <td>completed</td>\n",
              "      <td>100</td>\n",
              "      <td>96</td>\n",
              "      <td>86</td>\n",
              "    </tr>\n",
              "    <tr>\n",
              "      <th>997</th>\n",
              "      <td>male</td>\n",
              "      <td>group D</td>\n",
              "      <td>some college</td>\n",
              "      <td>standard</td>\n",
              "      <td>completed</td>\n",
              "      <td>100</td>\n",
              "      <td>97</td>\n",
              "      <td>99</td>\n",
              "    </tr>\n",
              "    <tr>\n",
              "      <th>998</th>\n",
              "      <td>male</td>\n",
              "      <td>group E</td>\n",
              "      <td>associate's degree</td>\n",
              "      <td>free/reduced</td>\n",
              "      <td>completed</td>\n",
              "      <td>100</td>\n",
              "      <td>100</td>\n",
              "      <td>93</td>\n",
              "    </tr>\n",
              "    <tr>\n",
              "      <th>999</th>\n",
              "      <td>male</td>\n",
              "      <td>group E</td>\n",
              "      <td>bachelor's degree</td>\n",
              "      <td>standard</td>\n",
              "      <td>completed</td>\n",
              "      <td>100</td>\n",
              "      <td>100</td>\n",
              "      <td>100</td>\n",
              "    </tr>\n",
              "  </tbody>\n",
              "</table>\n",
              "<p>1000 rows × 8 columns</p>\n",
              "</div>\n",
              "    <div class=\"colab-df-buttons\">\n",
              "\n",
              "  <div class=\"colab-df-container\">\n",
              "    <button class=\"colab-df-convert\" onclick=\"convertToInteractive('df-79ba6c91-caf7-4860-80ca-9a03914b2e1f')\"\n",
              "            title=\"Convert this dataframe to an interactive table.\"\n",
              "            style=\"display:none;\">\n",
              "\n",
              "  <svg xmlns=\"http://www.w3.org/2000/svg\" height=\"24px\" viewBox=\"0 -960 960 960\">\n",
              "    <path d=\"M120-120v-720h720v720H120Zm60-500h600v-160H180v160Zm220 220h160v-160H400v160Zm0 220h160v-160H400v160ZM180-400h160v-160H180v160Zm440 0h160v-160H620v160ZM180-180h160v-160H180v160Zm440 0h160v-160H620v160Z\"/>\n",
              "  </svg>\n",
              "    </button>\n",
              "\n",
              "  <style>\n",
              "    .colab-df-container {\n",
              "      display:flex;\n",
              "      gap: 12px;\n",
              "    }\n",
              "\n",
              "    .colab-df-convert {\n",
              "      background-color: #E8F0FE;\n",
              "      border: none;\n",
              "      border-radius: 50%;\n",
              "      cursor: pointer;\n",
              "      display: none;\n",
              "      fill: #1967D2;\n",
              "      height: 32px;\n",
              "      padding: 0 0 0 0;\n",
              "      width: 32px;\n",
              "    }\n",
              "\n",
              "    .colab-df-convert:hover {\n",
              "      background-color: #E2EBFA;\n",
              "      box-shadow: 0px 1px 2px rgba(60, 64, 67, 0.3), 0px 1px 3px 1px rgba(60, 64, 67, 0.15);\n",
              "      fill: #174EA6;\n",
              "    }\n",
              "\n",
              "    .colab-df-buttons div {\n",
              "      margin-bottom: 4px;\n",
              "    }\n",
              "\n",
              "    [theme=dark] .colab-df-convert {\n",
              "      background-color: #3B4455;\n",
              "      fill: #D2E3FC;\n",
              "    }\n",
              "\n",
              "    [theme=dark] .colab-df-convert:hover {\n",
              "      background-color: #434B5C;\n",
              "      box-shadow: 0px 1px 3px 1px rgba(0, 0, 0, 0.15);\n",
              "      filter: drop-shadow(0px 1px 2px rgba(0, 0, 0, 0.3));\n",
              "      fill: #FFFFFF;\n",
              "    }\n",
              "  </style>\n",
              "\n",
              "    <script>\n",
              "      const buttonEl =\n",
              "        document.querySelector('#df-79ba6c91-caf7-4860-80ca-9a03914b2e1f button.colab-df-convert');\n",
              "      buttonEl.style.display =\n",
              "        google.colab.kernel.accessAllowed ? 'block' : 'none';\n",
              "\n",
              "      async function convertToInteractive(key) {\n",
              "        const element = document.querySelector('#df-79ba6c91-caf7-4860-80ca-9a03914b2e1f');\n",
              "        const dataTable =\n",
              "          await google.colab.kernel.invokeFunction('convertToInteractive',\n",
              "                                                    [key], {});\n",
              "        if (!dataTable) return;\n",
              "\n",
              "        const docLinkHtml = 'Like what you see? Visit the ' +\n",
              "          '<a target=\"_blank\" href=https://colab.research.google.com/notebooks/data_table.ipynb>data table notebook</a>'\n",
              "          + ' to learn more about interactive tables.';\n",
              "        element.innerHTML = '';\n",
              "        dataTable['output_type'] = 'display_data';\n",
              "        await google.colab.output.renderOutput(dataTable, element);\n",
              "        const docLink = document.createElement('div');\n",
              "        docLink.innerHTML = docLinkHtml;\n",
              "        element.appendChild(docLink);\n",
              "      }\n",
              "    </script>\n",
              "  </div>\n",
              "\n",
              "\n",
              "<div id=\"df-8426ea27-4725-4104-88af-fe2190419609\">\n",
              "  <button class=\"colab-df-quickchart\" onclick=\"quickchart('df-8426ea27-4725-4104-88af-fe2190419609')\"\n",
              "            title=\"Suggest charts.\"\n",
              "            style=\"display:none;\">\n",
              "\n",
              "<svg xmlns=\"http://www.w3.org/2000/svg\" height=\"24px\"viewBox=\"0 0 24 24\"\n",
              "     width=\"24px\">\n",
              "    <g>\n",
              "        <path d=\"M19 3H5c-1.1 0-2 .9-2 2v14c0 1.1.9 2 2 2h14c1.1 0 2-.9 2-2V5c0-1.1-.9-2-2-2zM9 17H7v-7h2v7zm4 0h-2V7h2v10zm4 0h-2v-4h2v4z\"/>\n",
              "    </g>\n",
              "</svg>\n",
              "  </button>\n",
              "\n",
              "<style>\n",
              "  .colab-df-quickchart {\n",
              "      --bg-color: #E8F0FE;\n",
              "      --fill-color: #1967D2;\n",
              "      --hover-bg-color: #E2EBFA;\n",
              "      --hover-fill-color: #174EA6;\n",
              "      --disabled-fill-color: #AAA;\n",
              "      --disabled-bg-color: #DDD;\n",
              "  }\n",
              "\n",
              "  [theme=dark] .colab-df-quickchart {\n",
              "      --bg-color: #3B4455;\n",
              "      --fill-color: #D2E3FC;\n",
              "      --hover-bg-color: #434B5C;\n",
              "      --hover-fill-color: #FFFFFF;\n",
              "      --disabled-bg-color: #3B4455;\n",
              "      --disabled-fill-color: #666;\n",
              "  }\n",
              "\n",
              "  .colab-df-quickchart {\n",
              "    background-color: var(--bg-color);\n",
              "    border: none;\n",
              "    border-radius: 50%;\n",
              "    cursor: pointer;\n",
              "    display: none;\n",
              "    fill: var(--fill-color);\n",
              "    height: 32px;\n",
              "    padding: 0;\n",
              "    width: 32px;\n",
              "  }\n",
              "\n",
              "  .colab-df-quickchart:hover {\n",
              "    background-color: var(--hover-bg-color);\n",
              "    box-shadow: 0 1px 2px rgba(60, 64, 67, 0.3), 0 1px 3px 1px rgba(60, 64, 67, 0.15);\n",
              "    fill: var(--button-hover-fill-color);\n",
              "  }\n",
              "\n",
              "  .colab-df-quickchart-complete:disabled,\n",
              "  .colab-df-quickchart-complete:disabled:hover {\n",
              "    background-color: var(--disabled-bg-color);\n",
              "    fill: var(--disabled-fill-color);\n",
              "    box-shadow: none;\n",
              "  }\n",
              "\n",
              "  .colab-df-spinner {\n",
              "    border: 2px solid var(--fill-color);\n",
              "    border-color: transparent;\n",
              "    border-bottom-color: var(--fill-color);\n",
              "    animation:\n",
              "      spin 1s steps(1) infinite;\n",
              "  }\n",
              "\n",
              "  @keyframes spin {\n",
              "    0% {\n",
              "      border-color: transparent;\n",
              "      border-bottom-color: var(--fill-color);\n",
              "      border-left-color: var(--fill-color);\n",
              "    }\n",
              "    20% {\n",
              "      border-color: transparent;\n",
              "      border-left-color: var(--fill-color);\n",
              "      border-top-color: var(--fill-color);\n",
              "    }\n",
              "    30% {\n",
              "      border-color: transparent;\n",
              "      border-left-color: var(--fill-color);\n",
              "      border-top-color: var(--fill-color);\n",
              "      border-right-color: var(--fill-color);\n",
              "    }\n",
              "    40% {\n",
              "      border-color: transparent;\n",
              "      border-right-color: var(--fill-color);\n",
              "      border-top-color: var(--fill-color);\n",
              "    }\n",
              "    60% {\n",
              "      border-color: transparent;\n",
              "      border-right-color: var(--fill-color);\n",
              "    }\n",
              "    80% {\n",
              "      border-color: transparent;\n",
              "      border-right-color: var(--fill-color);\n",
              "      border-bottom-color: var(--fill-color);\n",
              "    }\n",
              "    90% {\n",
              "      border-color: transparent;\n",
              "      border-bottom-color: var(--fill-color);\n",
              "    }\n",
              "  }\n",
              "</style>\n",
              "\n",
              "  <script>\n",
              "    async function quickchart(key) {\n",
              "      const quickchartButtonEl =\n",
              "        document.querySelector('#' + key + ' button');\n",
              "      quickchartButtonEl.disabled = true;  // To prevent multiple clicks.\n",
              "      quickchartButtonEl.classList.add('colab-df-spinner');\n",
              "      try {\n",
              "        const charts = await google.colab.kernel.invokeFunction(\n",
              "            'suggestCharts', [key], {});\n",
              "      } catch (error) {\n",
              "        console.error('Error during call to suggestCharts:', error);\n",
              "      }\n",
              "      quickchartButtonEl.classList.remove('colab-df-spinner');\n",
              "      quickchartButtonEl.classList.add('colab-df-quickchart-complete');\n",
              "    }\n",
              "    (() => {\n",
              "      let quickchartButtonEl =\n",
              "        document.querySelector('#df-8426ea27-4725-4104-88af-fe2190419609 button');\n",
              "      quickchartButtonEl.style.display =\n",
              "        google.colab.kernel.accessAllowed ? 'block' : 'none';\n",
              "    })();\n",
              "  </script>\n",
              "</div>\n",
              "    </div>\n",
              "  </div>\n"
            ]
          },
          "metadata": {},
          "execution_count": 7
        }
      ]
    },
    {
      "cell_type": "code",
      "source": [
        "data.columns"
      ],
      "metadata": {
        "colab": {
          "base_uri": "https://localhost:8080/"
        },
        "id": "U7_U1VFISuQV",
        "outputId": "c8612b04-2fed-431e-9f7b-0d6e5fa6b20e"
      },
      "execution_count": 8,
      "outputs": [
        {
          "output_type": "execute_result",
          "data": {
            "text/plain": [
              "Index(['gender', 'race/ethnicity', 'parental level of education', 'lunch',\n",
              "       'test preparation course', 'math score', 'reading score',\n",
              "       'writing score'],\n",
              "      dtype='object')"
            ]
          },
          "metadata": {},
          "execution_count": 8
        }
      ]
    },
    {
      "cell_type": "markdown",
      "source": [
        "a. Find out how many males and females participated in the test."
      ],
      "metadata": {
        "id": "aNrn3bZjUL6y"
      }
    },
    {
      "cell_type": "code",
      "source": [
        "gender_counts = data['gender'].value_counts()\n",
        "print(gender_counts)"
      ],
      "metadata": {
        "colab": {
          "base_uri": "https://localhost:8080/"
        },
        "id": "UOioyyKPT1R0",
        "outputId": "7343deac-d15c-4e7a-89fb-25c031fafaf3"
      },
      "execution_count": 9,
      "outputs": [
        {
          "output_type": "stream",
          "name": "stdout",
          "text": [
            "female    518\n",
            "male      482\n",
            "Name: gender, dtype: int64\n"
          ]
        }
      ]
    },
    {
      "cell_type": "markdown",
      "source": [
        "b. What do you think about the students' parental level of education?"
      ],
      "metadata": {
        "id": "6MkYdiRbUkUP"
      }
    },
    {
      "cell_type": "code",
      "source": [
        "parental_education_counts = data['parental level of education'].value_counts()\n",
        "print(parental_education_counts)"
      ],
      "metadata": {
        "colab": {
          "base_uri": "https://localhost:8080/"
        },
        "id": "BMASU4tQUhsU",
        "outputId": "290c4c9f-bec1-4992-91cf-f3bd7707932f"
      },
      "execution_count": 10,
      "outputs": [
        {
          "output_type": "stream",
          "name": "stdout",
          "text": [
            "some college          226\n",
            "associate's degree    222\n",
            "high school           196\n",
            "some high school      179\n",
            "bachelor's degree     118\n",
            "master's degree        59\n",
            "Name: parental level of education, dtype: int64\n"
          ]
        }
      ]
    },
    {
      "cell_type": "markdown",
      "source": [
        "c. Who scores the most on average for math, reading, and writing based on\n",
        "    \n",
        "    "
      ],
      "metadata": {
        "id": "cPtckQuZU4Gb"
      }
    },
    {
      "cell_type": "markdown",
      "source": [
        "i.Gender"
      ],
      "metadata": {
        "id": "dBiwVLKLYGRi"
      }
    },
    {
      "cell_type": "code",
      "source": [
        "gender_math_scores = data.groupby('gender')['math score'].mean()\n",
        "gender_reading_scores = data.groupby('gender')['reading score'].mean()\n",
        "gender_writing_scores = data.groupby('gender')['writing score'].mean()"
      ],
      "metadata": {
        "id": "e-kQYx70UvEa"
      },
      "execution_count": 11,
      "outputs": []
    },
    {
      "cell_type": "code",
      "source": [
        "print(\"Average math scores by gender:\")\n",
        "print(gender_math_scores)\n",
        "print(\"Average reading scores by gender:\")\n",
        "print(gender_reading_scores)\n",
        "print(\"Average writing scores by gender:\")\n",
        "print(gender_writing_scores)"
      ],
      "metadata": {
        "colab": {
          "base_uri": "https://localhost:8080/"
        },
        "id": "dMT9nl8FVKTM",
        "outputId": "96a634d1-310e-4772-9420-c7086186c776"
      },
      "execution_count": 12,
      "outputs": [
        {
          "output_type": "stream",
          "name": "stdout",
          "text": [
            "Average math scores by gender:\n",
            "gender\n",
            "female    63.376448\n",
            "male      68.821577\n",
            "Name: math score, dtype: float64\n",
            "Average reading scores by gender:\n",
            "gender\n",
            "female    72.590734\n",
            "male      65.545643\n",
            "Name: reading score, dtype: float64\n",
            "Average writing scores by gender:\n",
            "gender\n",
            "female    72.467181\n",
            "male      63.446058\n",
            "Name: writing score, dtype: float64\n"
          ]
        }
      ]
    },
    {
      "cell_type": "markdown",
      "source": [
        "ii. Test preparation course"
      ],
      "metadata": {
        "id": "tZCxdXTyVS6W"
      }
    },
    {
      "cell_type": "code",
      "source": [
        "test_prep_math_scores = data.groupby('test preparation course')['math score'].mean()\n",
        "test_prep_reading_scores = data.groupby('test preparation course')['reading score'].mean()\n",
        "test_prep_writing_scores = data.groupby('test preparation course')['writing score'].mean()"
      ],
      "metadata": {
        "id": "wf6FyNKUWuyS"
      },
      "execution_count": 21,
      "outputs": []
    },
    {
      "cell_type": "code",
      "source": [
        "print(\"Average math scores by test preparation course:\")\n",
        "print(test_prep_math_scores)\n",
        "print(\"Average reading scores by test preparation course:\")\n",
        "print(test_prep_reading_scores)\n",
        "print(\"Average writing scores by test preparation course:\")\n",
        "print(test_prep_writing_scores)"
      ],
      "metadata": {
        "colab": {
          "base_uri": "https://localhost:8080/"
        },
        "id": "-T-S14pNVsB6",
        "outputId": "44409803-e96f-4cbf-d43a-b75e38da11bf"
      },
      "execution_count": 22,
      "outputs": [
        {
          "output_type": "stream",
          "name": "stdout",
          "text": [
            "Average math scores by test preparation course:\n",
            "test preparation course\n",
            "completed    69.96648\n",
            "none         63.78972\n",
            "Name: math score, dtype: float64\n",
            "Average reading scores by test preparation course:\n",
            "test preparation course\n",
            "completed    74.175978\n",
            "none         66.417445\n",
            "Name: reading score, dtype: float64\n",
            "Average writing scores by test preparation course:\n",
            "test preparation course\n",
            "completed    74.684358\n",
            "none         64.457944\n",
            "Name: writing score, dtype: float64\n"
          ]
        }
      ]
    },
    {
      "cell_type": "markdown",
      "source": [
        "d. What do you think about the scoring variation for math, reading, and writing based on\n"
      ],
      "metadata": {
        "id": "ATTSZDjmWX2-"
      }
    },
    {
      "cell_type": "markdown",
      "source": [
        "i.Gender"
      ],
      "metadata": {
        "id": "49m6O6IGYNWk"
      }
    },
    {
      "cell_type": "code",
      "source": [
        "gender_math_var = data.groupby('gender')['math score'].var()\n",
        "gender_reading_var = data.groupby('gender')['reading score'].var()\n",
        "gender_writing_var = data.groupby('gender')['writing score'].var()"
      ],
      "metadata": {
        "id": "nlpIQZMiWXWB"
      },
      "execution_count": 24,
      "outputs": []
    },
    {
      "cell_type": "code",
      "source": [
        "print(\"Math score variation by gender:\")\n",
        "print(gender_math_var)\n",
        "print(\"Reading score variation by gender:\")\n",
        "print(gender_reading_var)\n",
        "print(\"Writing score variation by gender:\")\n",
        "print(gender_writing_var)"
      ],
      "metadata": {
        "colab": {
          "base_uri": "https://localhost:8080/"
        },
        "id": "uE79mzouXdPi",
        "outputId": "32525c9b-d331-4228-9711-6fe233e28723"
      },
      "execution_count": 29,
      "outputs": [
        {
          "output_type": "stream",
          "name": "stdout",
          "text": [
            "Math score variation by gender:\n",
            "gender\n",
            "female    256.958593\n",
            "male      211.889097\n",
            "Name: math score, dtype: float64\n",
            "Reading score variation by gender:\n",
            "gender\n",
            "female    207.677438\n",
            "male      200.211010\n",
            "Name: reading score, dtype: float64\n",
            "Writing score variation by gender:\n",
            "gender\n",
            "female    220.369327\n",
            "male      202.413924\n",
            "Name: writing score, dtype: float64\n"
          ]
        }
      ]
    },
    {
      "cell_type": "markdown",
      "source": [
        "ii. Test preparation course"
      ],
      "metadata": {
        "id": "XCUaGleHXiI4"
      }
    },
    {
      "cell_type": "code",
      "source": [
        "test_prep_math_var = data.groupby('test preparation course')['math score'].var()\n",
        "test_prep_reading_var = data.groupby('test preparation course')['reading score'].var()\n",
        "test_prep_writing_var = data.groupby('test preparation course')['writing score'].var()"
      ],
      "metadata": {
        "id": "OB-PJEGjXjqS"
      },
      "execution_count": 27,
      "outputs": []
    },
    {
      "cell_type": "code",
      "source": [
        "print(\"Math score variation by test preparation course:\")\n",
        "print(test_prep_math_var)\n",
        "print(\"Reading score variation by test preparation course:\")\n",
        "print(test_prep_reading_var)\n",
        "print(\"Writing score variation by test preparation course:\")\n",
        "print(test_prep_writing_var)"
      ],
      "metadata": {
        "colab": {
          "base_uri": "https://localhost:8080/"
        },
        "id": "p50DgsSCX7tE",
        "outputId": "69311b01-9706-439c-ee34-9c08b9fb1c7f"
      },
      "execution_count": 28,
      "outputs": [
        {
          "output_type": "stream",
          "name": "stdout",
          "text": [
            "Math score variation by test preparation course:\n",
            "test preparation course\n",
            "completed    210.884027\n",
            "none         246.668662\n",
            "Name: math score, dtype: float64\n",
            "Reading score variation by test preparation course:\n",
            "test preparation course\n",
            "completed    183.265864\n",
            "none         213.419851\n",
            "Name: reading score, dtype: float64\n",
            "Writing score variation by test preparation course:\n",
            "test preparation course\n",
            "completed    175.202612\n",
            "none         226.251739\n",
            "Name: writing score, dtype: float64\n"
          ]
        }
      ]
    },
    {
      "cell_type": "markdown",
      "source": [
        "e. Give bonus points to the top 25% of students based on their math score"
      ],
      "metadata": {
        "id": "7Fhs8OXTV0Mc"
      }
    },
    {
      "cell_type": "code",
      "source": [
        "top_25_percentile_math_score = data['math score'].quantile(0.75)\n",
        "data['bonus points'] = data.apply(lambda row: 10 if row['math score'] >= top_25_percentile_math_score else 0, axis=1)\n"
      ],
      "metadata": {
        "id": "b9hymJ4DVxgf"
      },
      "execution_count": 16,
      "outputs": []
    },
    {
      "cell_type": "code",
      "source": [
        "data['bonus points']"
      ],
      "metadata": {
        "colab": {
          "base_uri": "https://localhost:8080/"
        },
        "id": "ttaR26uUV-_K",
        "outputId": "cd51357b-cf84-4de8-e62c-412fb1c7e009"
      },
      "execution_count": 18,
      "outputs": [
        {
          "output_type": "execute_result",
          "data": {
            "text/plain": [
              "0       0\n",
              "1       0\n",
              "2       0\n",
              "3       0\n",
              "4       0\n",
              "       ..\n",
              "995    10\n",
              "996    10\n",
              "997    10\n",
              "998    10\n",
              "999    10\n",
              "Name: bonus points, Length: 1000, dtype: int64"
            ]
          },
          "metadata": {},
          "execution_count": 18
        }
      ]
    },
    {
      "cell_type": "code",
      "source": [
        "data['bonus points'].value_counts()"
      ],
      "metadata": {
        "colab": {
          "base_uri": "https://localhost:8080/"
        },
        "id": "_KDVCDOJWEa2",
        "outputId": "c4aa6677-6658-4e6f-d274-f73b0cfa8174"
      },
      "execution_count": 19,
      "outputs": [
        {
          "output_type": "execute_result",
          "data": {
            "text/plain": [
              "0     745\n",
              "10    255\n",
              "Name: bonus points, dtype: int64"
            ]
          },
          "metadata": {},
          "execution_count": 19
        }
      ]
    },
    {
      "cell_type": "code",
      "source": [],
      "metadata": {
        "id": "KVxtSZMWWPhq"
      },
      "execution_count": null,
      "outputs": []
    }
  ]
}